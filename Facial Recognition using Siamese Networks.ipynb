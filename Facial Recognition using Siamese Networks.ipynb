{
 "cells": [
  {
   "cell_type": "code",
   "execution_count": null,
   "id": "70c4522a",
   "metadata": {},
   "outputs": [],
   "source": [
    "# FACIAL RECOGNITION USING SIAMESE NETWORKS"
   ]
  },
  {
   "cell_type": "code",
   "execution_count": 2,
   "id": "cc69c981",
   "metadata": {},
   "outputs": [],
   "source": [
    "import os\n",
    "import numpy \n",
    "import random\n",
    "import cv2 #computer vision library\n",
    "import matplotlib.pyplot as plt"
   ]
  },
  {
   "cell_type": "code",
   "execution_count": 3,
   "id": "40519a18",
   "metadata": {},
   "outputs": [
    {
     "name": "stdout",
     "output_type": "stream",
     "text": [
      "WARNING:tensorflow:From C:\\Users\\vigne\\anaconda3\\Lib\\site-packages\\keras\\src\\losses.py:2976: The name tf.losses.sparse_softmax_cross_entropy is deprecated. Please use tf.compat.v1.losses.sparse_softmax_cross_entropy instead.\n",
      "\n"
     ]
    }
   ],
   "source": [
    "from tensorflow.keras.models import Model\n",
    "from tensorflow.keras.layers import Layer, Conv2D, MaxPooling2D, Dense, Input, Flatten"
   ]
  },
  {
   "cell_type": "code",
   "execution_count": 4,
   "id": "9533425b",
   "metadata": {},
   "outputs": [],
   "source": [
    "import tensorflow as tf"
   ]
  },
  {
   "cell_type": "code",
   "execution_count": 4,
   "id": "01cc8c72",
   "metadata": {},
   "outputs": [],
   "source": [
    "# Avoid Out of memory error by setting GPU memory consumption growth\n",
    "gpus = tf.config.experimental.list_physical_devices('gpu')\n",
    "for gpu in gpus:\n",
    "    tf.config.experimental.set_memory_growth(gpu, True)"
   ]
  },
  {
   "cell_type": "code",
   "execution_count": 5,
   "id": "2f7c71b2",
   "metadata": {},
   "outputs": [],
   "source": [
    "POS_PATH = os.path.join('data', 'positive') #for positive verification images\n",
    "NEG_PATH = os.path.join('data', 'negative') #for negative verification images\n",
    "ANC_PATH = os.path.join('data', 'anchor') #for base images"
   ]
  },
  {
   "cell_type": "code",
   "execution_count": 6,
   "id": "003b82f1",
   "metadata": {},
   "outputs": [],
   "source": [
    "# Making Directories\n",
    "os.makedirs(POS_PATH)\n",
    "os.makedirs(NEG_PATH)\n",
    "os.makedirs(ANC_PATH)"
   ]
  },
  {
   "cell_type": "code",
   "execution_count": 7,
   "id": "bb6c84a7",
   "metadata": {},
   "outputs": [],
   "source": [
    "# Downloading Negative Dataset\n",
    "# uncompress the tar file\n",
    "!tar -xf lfw.tgz"
   ]
  },
  {
   "cell_type": "code",
   "execution_count": 8,
   "id": "717f9e3f",
   "metadata": {},
   "outputs": [],
   "source": [
    "# Move lfw images(extracted tar file) to negative folder\n",
    "for directories in os.listdir('lfw'):\n",
    "    for file in os.listdir(os.path.join('lfw',directories)):\n",
    "        old = os.path.join('lfw', directories, file)\n",
    "        new = os.path.join(NEG_PATH, file)\n",
    "        os.replace(old, new)"
   ]
  },
  {
   "cell_type": "code",
   "execution_count": 124,
   "id": "4eb31f8b",
   "metadata": {},
   "outputs": [],
   "source": [
    "# # checking whether the images are stored in the negative directory\n",
    "# for file in os.listdir(os.path.join('data', 'negative')):\n",
    "# #     print(os.path.join('data', 'negative', file))"
   ]
  },
  {
   "cell_type": "code",
   "execution_count": 10,
   "id": "f65e5e50",
   "metadata": {},
   "outputs": [],
   "source": [
    "# Collecting Positive and Anchor Dataset"
   ]
  },
  {
   "cell_type": "code",
   "execution_count": 11,
   "id": "36acf0a8",
   "metadata": {},
   "outputs": [
    {
     "name": "stdout",
     "output_type": "stream",
     "text": [
      "Requirement already satisfied: uuid in c:\\users\\vigne\\anaconda3\\lib\\site-packages (1.30)\n"
     ]
    }
   ],
   "source": [
    "# each image needs a unique id, so let's import uuid (universally unique identifiers)\n",
    "!pip install uuid\n",
    "import uuid"
   ]
  },
  {
   "cell_type": "code",
   "execution_count": 12,
   "id": "f00792e5",
   "metadata": {},
   "outputs": [
    {
     "data": {
      "text/plain": [
       "'be200711-c43f-11ee-a6be-95c89532f882.jpg'"
      ]
     },
     "execution_count": 12,
     "metadata": {},
     "output_type": "execute_result"
    }
   ],
   "source": [
    "'{}.jpg'.format(uuid.uuid1()) #creating unique id's for each image"
   ]
  },
  {
   "cell_type": "code",
   "execution_count": 13,
   "id": "5d2f4d6d",
   "metadata": {},
   "outputs": [
    {
     "data": {
      "text/plain": [
       "'be21ed7d-c43f-11ee-b690-95c89532f882.jpg'"
      ]
     },
     "execution_count": 13,
     "metadata": {},
     "output_type": "execute_result"
    }
   ],
   "source": [
    "'{}.jpg'.format(uuid.uuid1())"
   ]
  },
  {
   "cell_type": "code",
   "execution_count": 14,
   "id": "0ac5e4dc",
   "metadata": {},
   "outputs": [
    {
     "data": {
      "text/plain": [
       "'data\\\\anchor\\\\be23c984-c43f-11ee-b392-95c89532f882.jpg'"
      ]
     },
     "execution_count": 14,
     "metadata": {},
     "output_type": "execute_result"
    }
   ],
   "source": [
    "os.path.join(ANC_PATH, '{}.jpg'.format(uuid.uuid1())) # getting stored into data\\\\anchor folder (our base images folder)"
   ]
  },
  {
   "cell_type": "code",
   "execution_count": 61,
   "id": "699a09b4",
   "metadata": {},
   "outputs": [],
   "source": [
    "# Establishing a new connection to the webcam to collect anchor values\n",
    "cap = cv2.VideoCapture(0) # 3-> webcam value points to the device\n",
    "while cap.isOpened():\n",
    "    ret, frame = cap.read()\n",
    "    \n",
    "    frame = frame[120:120+250, 200:200+250, : ] #actually, the image size should be (250, 250, 3) (height, width, no.of.channels)\n",
    "    \n",
    "    #Collect both Anchors (base image) and Positives\n",
    "    # for Anchors\n",
    "    if cv2.waitKey(1) & 0XFF == ord('a'):\n",
    "        imgname = os.path.join(ANC_PATH, '{}.jpg'.format(uuid.uuid1()))\n",
    "        cv2.imwrite(imgname, frame)\n",
    "    \n",
    "    #for Positives\n",
    "    if cv2.waitKey(1) & 0XFF == ord('p'):\n",
    "        imgpos = os.path.join(POS_PATH, '{}.jpg'.format(uuid.uuid1()))\n",
    "        cv2.imwrite(imgpos, frame)\n",
    "    \n",
    "    # show image back to screen\n",
    "    cv2.imshow('Image Collection', frame)\n",
    "    \n",
    "    if cv2.waitKey(1) & 0XFF == ord('q'):\n",
    "        break\n",
    "        \n",
    "cap.release()\n",
    "cv2.destroyAllWindows()"
   ]
  },
  {
   "cell_type": "code",
   "execution_count": 16,
   "id": "a8bd025c",
   "metadata": {},
   "outputs": [],
   "source": [
    "# cv2.waitKey??"
   ]
  },
  {
   "cell_type": "code",
   "execution_count": 17,
   "id": "0037dba8",
   "metadata": {},
   "outputs": [],
   "source": [
    "# plt.imshow(frame)"
   ]
  },
  {
   "cell_type": "code",
   "execution_count": 18,
   "id": "3c003fe2",
   "metadata": {},
   "outputs": [],
   "source": [
    "# frame.shape"
   ]
  },
  {
   "cell_type": "code",
   "execution_count": 19,
   "id": "c69c19ed",
   "metadata": {},
   "outputs": [],
   "source": [
    "# plt.imshow(frame[120:120+250, 200:200+250, :])"
   ]
  },
  {
   "cell_type": "code",
   "execution_count": 20,
   "id": "272b89e2",
   "metadata": {},
   "outputs": [],
   "source": [
    "# frame[120:120+250, 200:200+250, :].shape"
   ]
  },
  {
   "cell_type": "code",
   "execution_count": 6,
   "id": "7c2efe58",
   "metadata": {},
   "outputs": [],
   "source": [
    "# Let's get the images from Directories\n",
    "anchor = tf.data.Dataset.list_files(ANC_PATH + '\\*.jpg').take(100)\n",
    "positive = tf.data.Dataset.list_files(POS_PATH + '\\*.jpg').take(100)\n",
    "negative = tf.data.Dataset.list_files(NEG_PATH + '\\*.jpg').take(100)"
   ]
  },
  {
   "cell_type": "code",
   "execution_count": 7,
   "id": "981b3a40",
   "metadata": {},
   "outputs": [
    {
     "data": {
      "text/plain": [
       "100"
      ]
     },
     "execution_count": 7,
     "metadata": {},
     "output_type": "execute_result"
    }
   ],
   "source": [
    "len(anchor)"
   ]
  },
  {
   "cell_type": "code",
   "execution_count": 8,
   "id": "4254b1f9",
   "metadata": {},
   "outputs": [
    {
     "data": {
      "text/plain": [
       "100"
      ]
     },
     "execution_count": 8,
     "metadata": {},
     "output_type": "execute_result"
    }
   ],
   "source": [
    "len(positive)"
   ]
  },
  {
   "cell_type": "code",
   "execution_count": 9,
   "id": "b8f17921",
   "metadata": {},
   "outputs": [
    {
     "data": {
      "text/plain": [
       "100"
      ]
     },
     "execution_count": 9,
     "metadata": {},
     "output_type": "execute_result"
    }
   ],
   "source": [
    "len(negative)"
   ]
  },
  {
   "cell_type": "code",
   "execution_count": 10,
   "id": "c55b27ed",
   "metadata": {},
   "outputs": [],
   "source": [
    "# Preprocessing the Data\n",
    "def preprocess(file_path):\n",
    "    byte_img = tf.io.read_file(file_path)\n",
    "    img = tf.io.decode_jpeg(byte_img)\n",
    "    img = tf.image.resize(img, (105, 105))\n",
    "    img = img / 255.0 # normalizing the image\n",
    "    return img"
   ]
  },
  {
   "cell_type": "code",
   "execution_count": 11,
   "id": "26cd4c42",
   "metadata": {},
   "outputs": [],
   "source": [
    "# Important Step\n",
    "# Creating Labelled Dataset\n",
    "# (positive, anchor) -> 1 / (negative, anchor) -> 0\n",
    "positives = tf.data.Dataset.zip(anchor, positive, tf.data.Dataset.from_tensor_slices(tf.ones(len(anchor))))\n",
    "negatives = tf.data.Dataset.zip(anchor, negative, tf.data.Dataset.from_tensor_slices(tf.zeros(len(anchor))))\n",
    "data = positives.concatenate(negatives)"
   ]
  },
  {
   "cell_type": "code",
   "execution_count": 12,
   "id": "5e07e415",
   "metadata": {},
   "outputs": [
    {
     "data": {
      "text/plain": [
       "200"
      ]
     },
     "execution_count": 12,
     "metadata": {},
     "output_type": "execute_result"
    }
   ],
   "source": [
    "len(data)"
   ]
  },
  {
   "cell_type": "code",
   "execution_count": 13,
   "id": "a7ccca2b",
   "metadata": {},
   "outputs": [],
   "source": [
    "samples = data.as_numpy_iterator()"
   ]
  },
  {
   "cell_type": "code",
   "execution_count": 14,
   "id": "a73f54ea",
   "metadata": {},
   "outputs": [
    {
     "data": {
      "text/plain": [
       "(b'data\\\\anchor\\\\068935a7-c44c-11ee-9086-95c89532f882.jpg',\n",
       " b'data\\\\positive\\\\7c7d1795-c44c-11ee-b794-95c89532f882.jpg',\n",
       " 1.0)"
      ]
     },
     "execution_count": 14,
     "metadata": {},
     "output_type": "execute_result"
    }
   ],
   "source": [
    "samples.next()"
   ]
  },
  {
   "cell_type": "code",
   "execution_count": 15,
   "id": "734ea77a",
   "metadata": {},
   "outputs": [],
   "source": [
    "# Building Training and Testing partition\n",
    "def preprocess_twin(input_img, validation_img, label):\n",
    "    return(preprocess(input_img), preprocess(validation_img), label)"
   ]
  },
  {
   "cell_type": "code",
   "execution_count": 16,
   "id": "f6d0e9f1",
   "metadata": {},
   "outputs": [],
   "source": [
    "# Building DataLoader Pipeline\n",
    "data = data.map(preprocess_twin)\n",
    "data = data.cache()\n",
    "data = data.shuffle(buffer_size = 1024)"
   ]
  },
  {
   "cell_type": "code",
   "execution_count": 17,
   "id": "bb92cc40",
   "metadata": {},
   "outputs": [
    {
     "data": {
      "text/plain": [
       "<_ShuffleDataset element_spec=(TensorSpec(shape=(105, 105, None), dtype=tf.float32, name=None), TensorSpec(shape=(105, 105, None), dtype=tf.float32, name=None), TensorSpec(shape=(), dtype=tf.float32, name=None))>"
      ]
     },
     "execution_count": 17,
     "metadata": {},
     "output_type": "execute_result"
    }
   ],
   "source": [
    "data"
   ]
  },
  {
   "cell_type": "code",
   "execution_count": 18,
   "id": "76547a0b",
   "metadata": {},
   "outputs": [],
   "source": [
    "# samples = data.as_numpy_iterator()"
   ]
  },
  {
   "cell_type": "code",
   "execution_count": 19,
   "id": "3b9920c4",
   "metadata": {},
   "outputs": [],
   "source": [
    "# len(samples.next())"
   ]
  },
  {
   "cell_type": "code",
   "execution_count": 20,
   "id": "154b0d81",
   "metadata": {},
   "outputs": [],
   "source": [
    "# samp = samples.next()"
   ]
  },
  {
   "cell_type": "code",
   "execution_count": 21,
   "id": "06aa6214",
   "metadata": {},
   "outputs": [],
   "source": [
    "# plt.imshow(samp[1])"
   ]
  },
  {
   "cell_type": "code",
   "execution_count": 22,
   "id": "d406160d",
   "metadata": {},
   "outputs": [],
   "source": [
    "#plt.imshow(samp[0]) # mine anchor image"
   ]
  },
  {
   "cell_type": "code",
   "execution_count": 23,
   "id": "cb1fc891",
   "metadata": {},
   "outputs": [],
   "source": [
    "# samp[2] #negative"
   ]
  },
  {
   "cell_type": "code",
   "execution_count": 24,
   "id": "6c875695",
   "metadata": {},
   "outputs": [],
   "source": [
    "# Partitioning\n",
    "train_data = data.take(round(len(data)*0.7))\n",
    "train_data = train_data.batch(16)\n",
    "train_data = train_data.prefetch(8)"
   ]
  },
  {
   "cell_type": "code",
   "execution_count": 25,
   "id": "5cb43daf",
   "metadata": {},
   "outputs": [
    {
     "data": {
      "text/plain": [
       "<_PrefetchDataset element_spec=(TensorSpec(shape=(None, 105, 105, None), dtype=tf.float32, name=None), TensorSpec(shape=(None, 105, 105, None), dtype=tf.float32, name=None), TensorSpec(shape=(None,), dtype=tf.float32, name=None))>"
      ]
     },
     "execution_count": 25,
     "metadata": {},
     "output_type": "execute_result"
    }
   ],
   "source": [
    "train_data"
   ]
  },
  {
   "cell_type": "code",
   "execution_count": 103,
   "id": "0e38bf41",
   "metadata": {},
   "outputs": [],
   "source": [
    "test_data = data.skip(round(len(data)*0.7))\n",
    "test_data = test_data.take(round(len(data)*0.3))\n",
    "test_data = test_data.batch(16)\n",
    "test_data = test_data.prefetch(8)"
   ]
  },
  {
   "cell_type": "code",
   "execution_count": 104,
   "id": "a83be277",
   "metadata": {},
   "outputs": [
    {
     "data": {
      "text/plain": [
       "<_PrefetchDataset element_spec=(TensorSpec(shape=(None, 105, 105, None), dtype=tf.float32, name=None), TensorSpec(shape=(None, 105, 105, None), dtype=tf.float32, name=None), TensorSpec(shape=(None,), dtype=tf.float32, name=None))>"
      ]
     },
     "execution_count": 104,
     "metadata": {},
     "output_type": "execute_result"
    }
   ],
   "source": [
    "test_data"
   ]
  },
  {
   "cell_type": "code",
   "execution_count": 71,
   "id": "7960d2a2",
   "metadata": {},
   "outputs": [],
   "source": [
    "# Creating Convolution Layers\n",
    "def embedding():\n",
    "    inp = Input(shape = (105, 105, 3), name = 'input_image')\n",
    "    cnn1 = Conv2D(64, (10,10), activation = 'relu')(inp)\n",
    "    mp1 = MaxPooling2D(64, (2,2), padding = 'same')(cnn1)\n",
    "    cnn2 = Conv2D(128, (7,7), activation = 'relu')(mp1)\n",
    "    mp2 = MaxPooling2D(64, (2,2), padding = 'same')(cnn2)\n",
    "    cnn3 = Conv2D(128, (4,4), activation = 'relu')(mp2)\n",
    "    mp3 = MaxPooling2D(64, (2,2), padding = 'same')(cnn3)\n",
    "    cnn4 = Conv2D(256, (4,4), activation = 'relu')(mp3)\n",
    "    f1 = Flatten()(cnn4)\n",
    "    d1 = Dense(4096, activation = 'sigmoid')(f1)\n",
    "    \n",
    "    return Model(inputs = [inp], outputs = [d1], name = \"embedding\")"
   ]
  },
  {
   "cell_type": "code",
   "execution_count": 72,
   "id": "46c99b3d",
   "metadata": {},
   "outputs": [],
   "source": [
    "model = embedding()"
   ]
  },
  {
   "cell_type": "code",
   "execution_count": 73,
   "id": "d2272764",
   "metadata": {},
   "outputs": [
    {
     "name": "stdout",
     "output_type": "stream",
     "text": [
      "Model: \"embedding\"\n",
      "_________________________________________________________________\n",
      " Layer (type)                Output Shape              Param #   \n",
      "=================================================================\n",
      " input_image (InputLayer)    [(None, 105, 105, 3)]     0         \n",
      "                                                                 \n",
      " conv2d_12 (Conv2D)          (None, 96, 96, 64)        19264     \n",
      "                                                                 \n",
      " max_pooling2d_9 (MaxPoolin  (None, 48, 48, 64)        0         \n",
      " g2D)                                                            \n",
      "                                                                 \n",
      " conv2d_13 (Conv2D)          (None, 42, 42, 128)       401536    \n",
      "                                                                 \n",
      " max_pooling2d_10 (MaxPooli  (None, 21, 21, 128)       0         \n",
      " ng2D)                                                           \n",
      "                                                                 \n",
      " conv2d_14 (Conv2D)          (None, 18, 18, 128)       262272    \n",
      "                                                                 \n",
      " max_pooling2d_11 (MaxPooli  (None, 9, 9, 128)         0         \n",
      " ng2D)                                                           \n",
      "                                                                 \n",
      " conv2d_15 (Conv2D)          (None, 6, 6, 256)         524544    \n",
      "                                                                 \n",
      " flatten_3 (Flatten)         (None, 9216)              0         \n",
      "                                                                 \n",
      " dense_4 (Dense)             (None, 4096)              37752832  \n",
      "                                                                 \n",
      "=================================================================\n",
      "Total params: 38960448 (148.62 MB)\n",
      "Trainable params: 38960448 (148.62 MB)\n",
      "Non-trainable params: 0 (0.00 Byte)\n",
      "_________________________________________________________________\n"
     ]
    }
   ],
   "source": [
    "model.summary()"
   ]
  },
  {
   "cell_type": "code",
   "execution_count": 74,
   "id": "8a8aae70",
   "metadata": {},
   "outputs": [],
   "source": [
    "# Creating Distance Layer\n",
    "class L1Dist(Layer):\n",
    "    def __init__(self, *kwargs):\n",
    "        super().__init__()\n",
    "        \n",
    "    def call(self, input_embedding, validation_embedding):\n",
    "        return tf.math.abs(input_embedding - validation_embedding)"
   ]
  },
  {
   "cell_type": "code",
   "execution_count": 75,
   "id": "c7fc2fa7",
   "metadata": {},
   "outputs": [],
   "source": [
    "# siamese_layer = L1Dist()\n",
    "# input_image = Input(name = 'input_img', shape = (105, 105, 3))\n",
    "# validation_image = Input(name = 'validation_img', shape = (105, 105, 3))\n",
    "# distances = siamese_layer(model(input_image), model(validation_image))"
   ]
  },
  {
   "cell_type": "code",
   "execution_count": 76,
   "id": "e51a9525",
   "metadata": {},
   "outputs": [],
   "source": [
    "# output = Dense(1, activation = 'sigmoid')(distances)"
   ]
  },
  {
   "cell_type": "code",
   "execution_count": 77,
   "id": "808cd8ba",
   "metadata": {},
   "outputs": [],
   "source": [
    "# siamnet = Model(inputs = [input_image, validation_image], outputs = output, name = 'SiameseNetwork')"
   ]
  },
  {
   "cell_type": "code",
   "execution_count": 78,
   "id": "cfd3b73d",
   "metadata": {},
   "outputs": [],
   "source": [
    "# siamnet.summary()"
   ]
  },
  {
   "cell_type": "code",
   "execution_count": 79,
   "id": "463a95ef",
   "metadata": {},
   "outputs": [],
   "source": [
    "def siamese_model():\n",
    "    input_image = Input(name = 'input_img', shape = (105, 105, 3))\n",
    "    validation_image = Input(name = 'validation_img', shape = (105, 105, 3))\n",
    "    siamese_layer = L1Dist()\n",
    "    siamese_layer._name = 'distance'\n",
    "    distances = siamese_layer(model(input_image), model(validation_image))\n",
    "    \n",
    "    # final classification layer\n",
    "    output = Dense(1, activation = 'sigmoid')(distances)\n",
    "    \n",
    "    return Model(inputs = [input_image, validation_image], outputs = output, name = 'SiameseNetwork')"
   ]
  },
  {
   "cell_type": "code",
   "execution_count": 80,
   "id": "e5faf9de",
   "metadata": {},
   "outputs": [],
   "source": [
    "simodel = siamese_model()"
   ]
  },
  {
   "cell_type": "code",
   "execution_count": 81,
   "id": "274f90a6",
   "metadata": {},
   "outputs": [
    {
     "name": "stdout",
     "output_type": "stream",
     "text": [
      "Model: \"SiameseNetwork\"\n",
      "__________________________________________________________________________________________________\n",
      " Layer (type)                Output Shape                 Param #   Connected to                  \n",
      "==================================================================================================\n",
      " input_img (InputLayer)      [(None, 105, 105, 3)]        0         []                            \n",
      "                                                                                                  \n",
      " validation_img (InputLayer  [(None, 105, 105, 3)]        0         []                            \n",
      " )                                                                                                \n",
      "                                                                                                  \n",
      " embedding (Functional)      (None, 4096)                 3896044   ['input_img[0][0]',           \n",
      "                                                          8          'validation_img[0][0]']      \n",
      "                                                                                                  \n",
      " distance (L1Dist)           (None, 4096)                 0         ['embedding[0][0]',           \n",
      "                                                                     'embedding[1][0]']           \n",
      "                                                                                                  \n",
      " dense_5 (Dense)             (None, 1)                    4097      ['distance[0][0]']            \n",
      "                                                                                                  \n",
      "==================================================================================================\n",
      "Total params: 38964545 (148.64 MB)\n",
      "Trainable params: 38964545 (148.64 MB)\n",
      "Non-trainable params: 0 (0.00 Byte)\n",
      "__________________________________________________________________________________________________\n"
     ]
    }
   ],
   "source": [
    "simodel.summary()"
   ]
  },
  {
   "cell_type": "code",
   "execution_count": 82,
   "id": "3c0ab90f",
   "metadata": {},
   "outputs": [],
   "source": [
    "# loss and optimizer\n",
    "binary_loss = tf.losses.BinaryCrossentropy()\n",
    "optimizers = tf.keras.optimizers.Adam(1e-4)"
   ]
  },
  {
   "cell_type": "code",
   "execution_count": 90,
   "id": "4b86a3a6",
   "metadata": {},
   "outputs": [],
   "source": [
    "@tf.function\n",
    "# creating train function\n",
    "def train_step(batch):\n",
    "    with tf.GradientTape() as tape:\n",
    "        X = batch[:2]\n",
    "        y = batch[2]\n",
    "        \n",
    "        # defining the model\n",
    "        yhat = simodel(X, training = True)\n",
    "        # loss\n",
    "        loss = binary_loss(y, yhat)\n",
    "    print(loss)\n",
    "    \n",
    "    # finding out the gradients\n",
    "    grad = tape.gradient(loss, simodel.trainable_variables)\n",
    "    # calculating weights and applying it to siamese_model\n",
    "    optimizers.apply_gradients(zip(grad, simodel.trainable_variables))\n",
    "    \n",
    "    return loss"
   ]
  },
  {
   "cell_type": "code",
   "execution_count": 91,
   "id": "3dc499ee",
   "metadata": {},
   "outputs": [],
   "source": [
    "def train(data, epochs):\n",
    "    for epoch in range(1, epochs+1):\n",
    "        print('\\n Epoch {}/{}'.format(epoch, epochs)) # printing epoch 1/10\n",
    "        progbar = tf.keras.utils.Progbar(len(data))\n",
    "        \n",
    "        #loop through each batch\n",
    "        for idx, batch in enumerate(data):\n",
    "            train_step(batch)\n",
    "            progbar.update(idx+1)"
   ]
  },
  {
   "cell_type": "code",
   "execution_count": 92,
   "id": "210862f3",
   "metadata": {},
   "outputs": [
    {
     "name": "stdout",
     "output_type": "stream",
     "text": [
      "\n",
      " Epoch 1/50\n",
      "Tensor(\"binary_crossentropy/weighted_loss/value:0\", shape=(), dtype=float32)\n",
      "Tensor(\"binary_crossentropy/weighted_loss/value:0\", shape=(), dtype=float32)\n",
      "8/9 [=========================>....] - ETA: 2sTensor(\"binary_crossentropy/weighted_loss/value:0\", shape=(), dtype=float32)\n",
      "9/9 [==============================] - 29s 3s/step\n",
      "\n",
      " Epoch 2/50\n",
      "9/9 [==============================] - 25s 3s/step\n",
      "\n",
      " Epoch 3/50\n",
      "9/9 [==============================] - 25s 3s/step\n",
      "\n",
      " Epoch 4/50\n",
      "9/9 [==============================] - 25s 3s/step\n",
      "\n",
      " Epoch 5/50\n",
      "9/9 [==============================] - 26s 3s/step\n",
      "\n",
      " Epoch 6/50\n",
      "9/9 [==============================] - 26s 3s/step\n",
      "\n",
      " Epoch 7/50\n",
      "9/9 [==============================] - 29s 3s/step\n",
      "\n",
      " Epoch 8/50\n",
      "9/9 [==============================] - 31s 3s/step\n",
      "\n",
      " Epoch 9/50\n",
      "9/9 [==============================] - 31s 3s/step\n",
      "\n",
      " Epoch 10/50\n",
      "9/9 [==============================] - 28s 3s/step\n",
      "\n",
      " Epoch 11/50\n",
      "9/9 [==============================] - 28s 3s/step\n",
      "\n",
      " Epoch 12/50\n",
      "9/9 [==============================] - 27s 3s/step\n",
      "\n",
      " Epoch 13/50\n",
      "9/9 [==============================] - 27s 3s/step\n",
      "\n",
      " Epoch 14/50\n",
      "9/9 [==============================] - 25s 3s/step\n",
      "\n",
      " Epoch 15/50\n",
      "9/9 [==============================] - 25s 3s/step\n",
      "\n",
      " Epoch 16/50\n",
      "9/9 [==============================] - 25s 3s/step\n",
      "\n",
      " Epoch 17/50\n",
      "9/9 [==============================] - 26s 3s/step\n",
      "\n",
      " Epoch 18/50\n",
      "9/9 [==============================] - 26s 3s/step\n",
      "\n",
      " Epoch 19/50\n",
      "9/9 [==============================] - 25s 3s/step\n",
      "\n",
      " Epoch 20/50\n",
      "9/9 [==============================] - 25s 3s/step\n",
      "\n",
      " Epoch 21/50\n",
      "9/9 [==============================] - 25s 3s/step\n",
      "\n",
      " Epoch 22/50\n",
      "9/9 [==============================] - 26s 3s/step\n",
      "\n",
      " Epoch 23/50\n",
      "9/9 [==============================] - 26s 3s/step\n",
      "\n",
      " Epoch 24/50\n",
      "9/9 [==============================] - 25s 3s/step\n",
      "\n",
      " Epoch 25/50\n",
      "9/9 [==============================] - 25s 3s/step\n",
      "\n",
      " Epoch 26/50\n",
      "9/9 [==============================] - 26s 3s/step\n",
      "\n",
      " Epoch 27/50\n",
      "9/9 [==============================] - 25s 3s/step\n",
      "\n",
      " Epoch 28/50\n",
      "9/9 [==============================] - 25s 3s/step\n",
      "\n",
      " Epoch 29/50\n",
      "9/9 [==============================] - 25s 3s/step\n",
      "\n",
      " Epoch 30/50\n",
      "9/9 [==============================] - 27s 3s/step\n",
      "\n",
      " Epoch 31/50\n",
      "9/9 [==============================] - 28s 3s/step\n",
      "\n",
      " Epoch 32/50\n",
      "9/9 [==============================] - 28s 3s/step\n",
      "\n",
      " Epoch 33/50\n",
      "9/9 [==============================] - 28s 3s/step\n",
      "\n",
      " Epoch 34/50\n",
      "9/9 [==============================] - 30s 3s/step\n",
      "\n",
      " Epoch 35/50\n",
      "9/9 [==============================] - 29s 3s/step\n",
      "\n",
      " Epoch 36/50\n",
      "9/9 [==============================] - 30s 3s/step\n",
      "\n",
      " Epoch 37/50\n",
      "9/9 [==============================] - 28s 3s/step\n",
      "\n",
      " Epoch 38/50\n",
      "9/9 [==============================] - 25s 3s/step\n",
      "\n",
      " Epoch 39/50\n",
      "9/9 [==============================] - 25s 3s/step\n",
      "\n",
      " Epoch 40/50\n",
      "9/9 [==============================] - 25s 3s/step\n",
      "\n",
      " Epoch 41/50\n",
      "9/9 [==============================] - 25s 3s/step\n",
      "\n",
      " Epoch 42/50\n",
      "9/9 [==============================] - 25s 3s/step\n",
      "\n",
      " Epoch 43/50\n",
      "9/9 [==============================] - 25s 3s/step\n",
      "\n",
      " Epoch 44/50\n",
      "9/9 [==============================] - 25s 3s/step\n",
      "\n",
      " Epoch 45/50\n",
      "9/9 [==============================] - 25s 3s/step\n",
      "\n",
      " Epoch 46/50\n",
      "9/9 [==============================] - 25s 3s/step\n",
      "\n",
      " Epoch 47/50\n",
      "9/9 [==============================] - 25s 3s/step\n",
      "\n",
      " Epoch 48/50\n",
      "9/9 [==============================] - 26s 3s/step\n",
      "\n",
      " Epoch 49/50\n",
      "9/9 [==============================] - 27s 3s/step\n",
      "\n",
      " Epoch 50/50\n",
      "9/9 [==============================] - 28s 3s/step\n"
     ]
    }
   ],
   "source": [
    "train(train_data, 50)"
   ]
  },
  {
   "cell_type": "code",
   "execution_count": null,
   "id": "6653ef6f",
   "metadata": {},
   "outputs": [],
   "source": [
    "# Evaluation Metrics -> Precision and Recall to check our Model's performance"
   ]
  },
  {
   "cell_type": "code",
   "execution_count": 114,
   "id": "0e81aa33",
   "metadata": {},
   "outputs": [],
   "source": [
    "from tensorflow.keras.metrics import Precision, Recall"
   ]
  },
  {
   "cell_type": "code",
   "execution_count": 106,
   "id": "a0e69f6a",
   "metadata": {},
   "outputs": [],
   "source": [
    "test_input, test_val, ytest = test_data.as_numpy_iterator().next()"
   ]
  },
  {
   "cell_type": "code",
   "execution_count": 107,
   "id": "edc59f5a",
   "metadata": {},
   "outputs": [
    {
     "name": "stdout",
     "output_type": "stream",
     "text": [
      "1/1 [==============================] - 1s 775ms/step\n"
     ]
    },
    {
     "data": {
      "text/plain": [
       "array([[9.9998379e-01],\n",
       "       [1.0000000e+00],\n",
       "       [9.9472737e-01],\n",
       "       [1.6050297e-12],\n",
       "       [9.9692780e-01],\n",
       "       [9.9999863e-01],\n",
       "       [9.9999058e-01],\n",
       "       [9.9996865e-01],\n",
       "       [9.9855810e-01],\n",
       "       [6.3393891e-08],\n",
       "       [7.4985497e-11],\n",
       "       [1.0000000e+00],\n",
       "       [1.5638598e-11],\n",
       "       [4.6658052e-11],\n",
       "       [9.9935991e-01],\n",
       "       [1.5963143e-07]], dtype=float32)"
      ]
     },
     "execution_count": 107,
     "metadata": {},
     "output_type": "execute_result"
    }
   ],
   "source": [
    "predictions = simodel.predict([test_input, test_val])\n",
    "predictions"
   ]
  },
  {
   "cell_type": "code",
   "execution_count": 108,
   "id": "394d89dd",
   "metadata": {},
   "outputs": [
    {
     "data": {
      "text/plain": [
       "[1, 1, 1, 0, 1, 1, 1, 1, 1, 0, 0, 1, 0, 0, 1, 0]"
      ]
     },
     "execution_count": 108,
     "metadata": {},
     "output_type": "execute_result"
    }
   ],
   "source": [
    "[1 if predict>0.5 else 0 for predict in predictions]"
   ]
  },
  {
   "cell_type": "code",
   "execution_count": 111,
   "id": "b9816a0a",
   "metadata": {},
   "outputs": [
    {
     "data": {
      "text/plain": [
       "1.0"
      ]
     },
     "execution_count": 111,
     "metadata": {},
     "output_type": "execute_result"
    }
   ],
   "source": [
    "n = Recall()\n",
    "n.update_state(ytest, predictions)\n",
    "n.result().numpy()"
   ]
  },
  {
   "cell_type": "code",
   "execution_count": 112,
   "id": "e9acf0d1",
   "metadata": {},
   "outputs": [
    {
     "data": {
      "text/plain": [
       "1.0"
      ]
     },
     "execution_count": 112,
     "metadata": {},
     "output_type": "execute_result"
    }
   ],
   "source": [
    "m = Precision()\n",
    "m.update_state(ytest, predictions)\n",
    "m.result().numpy()"
   ]
  },
  {
   "cell_type": "code",
   "execution_count": 116,
   "id": "6b6386f1",
   "metadata": {},
   "outputs": [],
   "source": [
    "# Visualizing results -> ya, it's worked\n",
    "# plt.figure(figsize = (18,8))\n",
    "# plt.subplot(1, 2, 1)\n",
    "# plt.imshow(test_input[0])\n",
    "# plt.subplot(1, 2, 2)\n",
    "# plt.imshow(test_val[0])"
   ]
  },
  {
   "cell_type": "code",
   "execution_count": 120,
   "id": "6d5b2f80",
   "metadata": {},
   "outputs": [],
   "source": [
    "# plt.figure(figsize = (18,8))\n",
    "# plt.subplot(1, 2, 1)\n",
    "# plt.imshow(test_input[3])\n",
    "# plt.subplot(1, 2, 2)\n",
    "# plt.imshow(test_val[3])"
   ]
  },
  {
   "cell_type": "code",
   "execution_count": null,
   "id": "ad652de1",
   "metadata": {},
   "outputs": [],
   "source": []
  }
 ],
 "metadata": {
  "kernelspec": {
   "display_name": "Python 3 (ipykernel)",
   "language": "python",
   "name": "python3"
  },
  "language_info": {
   "codemirror_mode": {
    "name": "ipython",
    "version": 3
   },
   "file_extension": ".py",
   "mimetype": "text/x-python",
   "name": "python",
   "nbconvert_exporter": "python",
   "pygments_lexer": "ipython3",
   "version": "3.11.5"
  }
 },
 "nbformat": 4,
 "nbformat_minor": 5
}
